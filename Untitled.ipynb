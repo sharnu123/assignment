{
 "cells": [
  {
   "cell_type": "code",
   "execution_count": null,
   "id": "281549ea",
   "metadata": {},
   "outputs": [],
   "source": [
    "#11.2\n",
    "num1=int(input(\"Enter a no.   =\"))\n",
    "num2=int(input(\"Entera no.    =\"))\n",
    "num=int(input(\"Press 1 for addition, 2 for subtraction ,  for multiplication or Division   =  \"))\n",
    "if(num==1):\n",
    "    print(add(num1,num2))\n",
    "elif(num==2):\n",
    "    print(sub(num1,num2))\n",
    "elif(num==3):\n",
    "    print(multi(num1,num2))\n",
    "elif(num==4):\n",
    "    print(div(num1,num2))\n",
    "else:\n",
    "    printf(\"Wrong Choice\")"
   ]
  },
  {
   "cell_type": "code",
   "execution_count": null,
   "id": "76eec798",
   "metadata": {},
   "outputs": [],
   "source": []
  },
  {
   "cell_type": "code",
   "execution_count": null,
   "id": "307eff68",
   "metadata": {},
   "outputs": [],
   "source": []
  }
 ],
 "metadata": {
  "kernelspec": {
   "display_name": "Python 3",
   "language": "python",
   "name": "python3"
  },
  "language_info": {
   "codemirror_mode": {
    "name": "ipython",
    "version": 3
   },
   "file_extension": ".py",
   "mimetype": "text/x-python",
   "name": "python",
   "nbconvert_exporter": "python",
   "pygments_lexer": "ipython3",
   "version": "3.8.8"
  }
 },
 "nbformat": 4,
 "nbformat_minor": 5
}
